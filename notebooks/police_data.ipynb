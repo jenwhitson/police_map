{
 "cells": [
  {
   "cell_type": "code",
   "execution_count": null,
   "id": "gothic-scheduling",
   "metadata": {},
   "outputs": [],
   "source": [
    "from shapely.geometry import Point\n",
    "import pandas as pd\n",
    "import geopandas as gpd\n",
    "import matplotlib.pyplot as plt\n",
    "import folium\n",
    "from folium.plugins import MarkerCluster\n",
    "from folium.plugins import FastMarkerCluster\n",
    "\n",
    "%matplotlib inline"
   ]
  },
  {
   "cell_type": "code",
   "execution_count": null,
   "id": "chinese-missile",
   "metadata": {},
   "outputs": [],
   "source": [
    "precincts = gpd.read_file('../data/Police Precinct District Outlines (GIS).geojson')\n",
    "precincts"
   ]
  },
  {
   "cell_type": "code",
   "execution_count": null,
   "id": "formed-mountain",
   "metadata": {},
   "outputs": [],
   "source": [
    "precincts.plot()"
   ]
  },
  {
   "cell_type": "code",
   "execution_count": null,
   "id": "material-therapy",
   "metadata": {},
   "outputs": [],
   "source": [
    "incidents = gpd.read_file('../data/mnpd_incidents.geojson')"
   ]
  },
  {
   "cell_type": "code",
   "execution_count": null,
   "id": "induced-crawford",
   "metadata": {},
   "outputs": [],
   "source": [
    "incidents = incidents[incidents.geometry.notnull()]"
   ]
  },
  {
   "cell_type": "code",
   "execution_count": null,
   "id": "overall-houston",
   "metadata": {},
   "outputs": [],
   "source": [
    "incidents[['longitude']] = incidents[['longitude']].apply(pd.to_numeric)  \n",
    "incidents.info()"
   ]
  },
  {
   "cell_type": "code",
   "execution_count": null,
   "id": "centered-italy",
   "metadata": {},
   "outputs": [],
   "source": [
    "incidents_clean = incidents[incidents.longitude < -10]\n",
    "incidents_clean.sort_values('longitude', ascending = False)\n",
    "incidents_clean.head()"
   ]
  },
  {
   "cell_type": "code",
   "execution_count": null,
   "id": "killing-productivity",
   "metadata": {},
   "outputs": [],
   "source": [
    "incidents_clean = incidents_clean.drop(columns = ['victim_county_resident', 'zip_code', 'victim_number', 'offense_nibrs', \n",
    "                                              'rpa', 'victim_race', 'incident_number', 'investigation_status', \n",
    "                                              'offense_number', 'domestic_related', 'victim_ethnicity', \n",
    "                                              'incident_location', 'victim_description', 'location_code', 'report_type', \n",
    "                                              'location_description', 'report_type_description', 'victim_type', \n",
    "                                              'incident_status_code', 'incident_status_description', 'zone', 'victim_gender'])\n",
    "incidents_clean.info()"
   ]
  },
  {
   "cell_type": "code",
   "execution_count": null,
   "id": "subtle-preparation",
   "metadata": {},
   "outputs": [],
   "source": [
    "incidents_clean['year'] = pd.DatetimeIndex(incidents_clean['incident_occurred']).year\n",
    "incidents_clean['month'] = pd.DatetimeIndex(incidents_clean['incident_occurred']).month\n",
    "incidents_clean.info()"
   ]
  },
  {
   "cell_type": "code",
   "execution_count": null,
   "id": "unavailable-reader",
   "metadata": {},
   "outputs": [],
   "source": [
    "incbyprec = gpd.sjoin(incidents_clean, precincts, op = 'within')\n",
    "incbyprec.year.value_counts()"
   ]
  },
  {
   "cell_type": "code",
   "execution_count": null,
   "id": "finnish-interval",
   "metadata": {},
   "outputs": [],
   "source": [
    "madinc = incbyprec.loc[incbyprec['precinct'] == 'MADISON']\n",
    "madinc.info()"
   ]
  },
  {
   "cell_type": "code",
   "execution_count": null,
   "id": "practical-disposition",
   "metadata": {},
   "outputs": [],
   "source": [
    "mad1920 = madinc[madinc['year'].isin([2019, 2020])]\n",
    "mad1920.shape"
   ]
  },
  {
   "cell_type": "code",
   "execution_count": null,
   "id": "placed-hardwood",
   "metadata": {},
   "outputs": [],
   "source": [
    "madison_polygon = precincts[precincts.precinct == 'MADISON']\n",
    "madison_polygon"
   ]
  },
  {
   "cell_type": "code",
   "execution_count": null,
   "id": "ordered-jacket",
   "metadata": {},
   "outputs": [],
   "source": [
    "madcenter = madison_polygon.centroid.values[0]\n",
    "area_madcenter = [madcenter.y, madcenter.x]\n",
    "area_madcenter"
   ]
  },
  {
   "cell_type": "code",
   "execution_count": null,
   "id": "discrete-electronics",
   "metadata": {},
   "outputs": [],
   "source": [
    "cluster_madmap = folium.Map(location =  area_madcenter, zoom_start = 11)\n",
    "\n",
    "#create a marker cluster\n",
    "marker_cluster = MarkerCluster().add_to(cluster_madmap)\n",
    "\n",
    "folium.GeoJson(madison_polygon).add_to(cluster_madmap)\n",
    "\n",
    "# inside the loop add each marker to the cluster\n",
    "for row_index, row_values in mad1920.iterrows():\n",
    "    loc = [row_values['latitude'], row_values['longitude']]\n",
    "    pop1 = str(row_values['offense_description']) \n",
    "    pop2 = str(row_values['incident_occurred'])\n",
    "    icon=folium.Icon(color=\"red\",icon= 'exclamation-triangle', prefix='fa')\n",
    "    \n",
    "    marker = folium.Marker(\n",
    "        location = loc, \n",
    "        popup = pop1 + pop2,\n",
    "    icon = icon) \n",
    "    \n",
    "    marker.add_to(marker_cluster)\n",
    "\n",
    "    \n",
    "#save an interactive HTML map by calling .save()\n",
    "cluster_madmap.save('../maps/clustermadison.html')\n",
    "\n",
    "cluster_madmap"
   ]
  },
  {
   "cell_type": "code",
   "execution_count": null,
   "id": "american-requirement",
   "metadata": {},
   "outputs": [],
   "source": [
    "incidents2020 = incbyprec[incbyprec.year == 2020]\n",
    "incjune2020 = incidents2020.loc[incidents2020['month'] == 6]\n",
    "incjune2020.shape"
   ]
  },
  {
   "cell_type": "code",
   "execution_count": null,
   "id": "analyzed-swiss",
   "metadata": {},
   "outputs": [],
   "source": [
    "incjune2020.precinct.value_counts()"
   ]
  },
  {
   "cell_type": "code",
   "execution_count": null,
   "id": "stylish-drink",
   "metadata": {},
   "outputs": [],
   "source": [
    "#finding the precinct center\n",
    "preccenter = precincts.centroid.values[0]"
   ]
  },
  {
   "cell_type": "code",
   "execution_count": null,
   "id": "green-rebecca",
   "metadata": {},
   "outputs": [],
   "source": [
    "area_preccenter = [preccenter.y, preccenter.x]\n",
    "area_preccenter"
   ]
  },
  {
   "cell_type": "code",
   "execution_count": null,
   "id": "choice-beauty",
   "metadata": {},
   "outputs": [],
   "source": [
    "incjune2020.offense_description.value_counts().head(20)"
   ]
  },
  {
   "cell_type": "code",
   "execution_count": null,
   "id": "victorian-directive",
   "metadata": {},
   "outputs": [],
   "source": [
    "top3 = incjune2020.loc[incjune2020.offense_description.isin(['SIMPLE ASSLT', 'BURGLARY - MOTOR VEHICLE', 'DAMAGE PROP - PRIVATE'])]\n",
    "top3.shape"
   ]
  },
  {
   "cell_type": "code",
   "execution_count": null,
   "id": "crude-cliff",
   "metadata": {},
   "outputs": [],
   "source": [
    "\n",
    "legend_html =   '''\n",
    "\n",
    "                <div style=\"     position: fixed; \n",
    "                                 bottom: 25px; \n",
    "                                 left: 25px; \n",
    "                                 width: 250px; \n",
    "                                 height: 125px; \n",
    "                                 background-color: white;\n",
    "                                 opacity: .85;\n",
    "                                 border:2px solid grey; \n",
    "                                 z-index:9999;\n",
    "     \n",
    "     font-size:14px;\n",
    "     font-weight: bold;\n",
    "                >\n",
    "                  &nbsp; <h5 style=\"text-align:center;\">Incident Types</h5><br><br>\n",
    "                  &nbsp; Simple Assault  &nbsp; <i class=\"fa fa-hand-rock-o\" style=\"color:red\"></i><br>\n",
    "                  &nbsp; Burglary - Motor Vehicle  &nbsp; <i class=\"fa fa-car\" style=\"color:green\"></i><br>\n",
    "                  &nbsp; Damage of Private Property  &nbsp; <i class=\"fa fa-frown-o\" style=\"color:blue\"></i><br>\n",
    "                  \n",
    "                </div>\n",
    "\n",
    "                '''\n",
    "\n",
    "top3map = folium.Map(location =  area_preccenter, zoom_start = 9)\n",
    "\n",
    "marker_cluster = MarkerCluster().add_to(top3map)\n",
    "\n",
    "folium.GeoJson(precincts, style_function = lambda x: {'fillColor': '#06bee1', \n",
    "                                                        'fillOpacity': .2, \n",
    "                                                        'color': '#03256c'}\n",
    "              ).add_to(top3map)\n",
    "\n",
    "\n",
    "\n",
    "# inside the loop add each marker to the cluster\n",
    "for row_index, row_values in top3.iterrows():\n",
    "    loc = [row_values['latitude'], row_values['longitude']]\n",
    "    pop2 = str(row_values['incident_occurred'])\n",
    "    if row_values['offense_description'] == 'SIMPLE ASSLT':\n",
    "        icon=folium.Icon(color='red',icon='hand-rock-o', prefix='fa')\n",
    "    elif row_values['offense_description'] == 'BURGLARY - MOTOR VEHICLE':\n",
    "        icon=folium.Icon(color='green',icon='car', prefix='fa')\n",
    "    else:\n",
    "        icon=folium.Icon(color='blue',icon='frown-o', prefix='fa')\n",
    "    if row_values['offense_description'] == 'SIMPLE ASSLT':\n",
    "        pop1 = 'Simple Assault'\n",
    "    elif row_values['offense_description'] == 'BURGLARY - MOTOR VEHICLE':\n",
    "        pop1 = 'Stolen Car'\n",
    "    else:\n",
    "        pop1 = 'Damage of Private Property'\n",
    "        \n",
    "    marker = folium.Marker(\n",
    "        location = loc, \n",
    "        popup = pop1 + '<br/>' + '<br/>'+ pop2,\n",
    "    icon = icon) \n",
    "    \n",
    "    marker.add_to(marker_cluster)\n",
    "\n",
    "\n",
    "#save an interactive HTML map by calling .save()\n",
    "top3map.save('../maps/top3incidents.html')\n",
    "top3map.get_root().html.add_child(folium.Element(legend_html))\n",
    "top3map "
   ]
  },
  {
   "cell_type": "code",
   "execution_count": null,
   "id": "together-commitment",
   "metadata": {},
   "outputs": [],
   "source": []
  }
 ],
 "metadata": {
  "kernelspec": {
   "display_name": "Python 3",
   "language": "python",
   "name": "python3"
  },
  "language_info": {
   "codemirror_mode": {
    "name": "ipython",
    "version": 3
   },
   "file_extension": ".py",
   "mimetype": "text/x-python",
   "name": "python",
   "nbconvert_exporter": "python",
   "pygments_lexer": "ipython3",
   "version": "3.8.5"
  }
 },
 "nbformat": 4,
 "nbformat_minor": 5
}
